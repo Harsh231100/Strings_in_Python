{
 "cells": [
  {
   "cell_type": "markdown",
   "id": "fa4d4d7c",
   "metadata": {},
   "source": [
    "# Strings"
   ]
  },
  {
   "cell_type": "markdown",
   "id": "d79bed26",
   "metadata": {},
   "source": [
    "String is the collection of the characters surrounded by single quotes, double quotes, or triple quotes. It is an immutable data type, meaning that once you have created a string, you cannot change it"
   ]
  },
  {
   "cell_type": "markdown",
   "id": "10528279",
   "metadata": {},
   "source": [
    "## Creating String"
   ]
  },
  {
   "cell_type": "markdown",
   "id": "a79ee8c8",
   "metadata": {},
   "source": [
    "* Strings are charachters which are enclosed in single quotes, double quotes, and triple double quotes.\n",
    "* The triple quotes can be used to declare multiline strings multiline comments and as doc strings"
   ]
  },
  {
   "cell_type": "code",
   "execution_count": 1,
   "id": "23af2eb3",
   "metadata": {},
   "outputs": [
    {
     "name": "stdout",
     "output_type": "stream",
     "text": [
      "this is a string, enclosed in single qoutes\n",
      "this is a string, enclosed in double qoutes\n",
      "this is a multi-string,\n",
      "enclosed in single-triple qoutes\n",
      "this is an informative\n",
      "multi-line comment,\n",
      "created by using triple-double qoutes\n"
     ]
    }
   ],
   "source": [
    "s1 = 'this is a string, enclosed in single qoutes'\n",
    "\n",
    "s2 = \"this is a string, enclosed in double qoutes\"\n",
    "\n",
    "s3 = '''this is a multi-string,\n",
    "enclosed in single-triple qoutes'''\n",
    "\n",
    "s4 = \"\"\"this is an informative\n",
    "multi-line comment,\n",
    "created by using triple-double qoutes\"\"\"\n",
    "\n",
    "print(s1,s2,s3,s4, sep = '\\n')"
   ]
  },
  {
   "cell_type": "code",
   "execution_count": 2,
   "id": "509df343",
   "metadata": {},
   "outputs": [
    {
     "name": "stdout",
     "output_type": "stream",
     "text": [
      "this cup now belong's to INDIA\n",
      "this cup now belong's to INDIA\n"
     ]
    }
   ],
   "source": [
    "a = \"this cup now belong's to INDIA\"\n",
    "print(a)\n",
    "a = 'this cup now belong\\'s to INDIA'\n",
    "print(a)"
   ]
  },
  {
   "cell_type": "markdown",
   "id": "4c33b8e5",
   "metadata": {},
   "source": [
    "### Escape"
   ]
  },
  {
   "cell_type": "markdown",
   "id": "dba2787e",
   "metadata": {},
   "source": [
    "* In strings, the backslash \" \\ \" is a special character, called the \"escape\" character.\n",
    "* It is used in representing certain whitespace characters:-\"\\t\" is a tab, \"\\n\" is a newline, and \"\\r\" is a carriage return. Conversely, prefixing a special character with \" \\ \" turns it into an ordinary character."
   ]
  },
  {
   "cell_type": "markdown",
   "id": "bc457760",
   "metadata": {},
   "source": [
    "![](https://ipcisco.com/wp-content/uploads/2021/03/python-excape-characters-ipcisco-1.jpg)"
   ]
  },
  {
   "cell_type": "code",
   "execution_count": 12,
   "id": "71c366fd",
   "metadata": {},
   "outputs": [
    {
     "name": "stdout",
     "output_type": "stream",
     "text": [
      "a'b'\n",
      "a\\b\n",
      "a\n",
      "b\n",
      "a\r",
      "b\n",
      "a\tb\n",
      "a\bb\n",
      "a\f",
      "b\n",
      "a\\oob\n"
     ]
    }
   ],
   "source": [
    "print(\"a\\'b'\") #single quote\n",
    "print(\"a\\\\b\") #insert single backslash\n",
    "print(\"a\\nb\") #new line\n",
    "print(\"a\\rb\") # takes the cursor to the first position of the same line\n",
    "print(\"a\\tb\") #tab add 4 spaces \n",
    "print(\"a\\bb\") # takes cursor one position backward\n",
    "print(\"a\\fb\") #form feed is page breaking\n",
    "print(\"a\\oob\") #octal value"
   ]
  },
  {
   "cell_type": "markdown",
   "id": "f0086972",
   "metadata": {},
   "source": [
    "### Raw String"
   ]
  },
  {
   "cell_type": "markdown",
   "id": "a4caec58",
   "metadata": {},
   "source": [
    "* A raw string is a special type of string that allows you to include backslashes () without interpreting them as escape sequences.\n",
    "\n",
    "* Raw strings are particularly useful when working with regular expressions, as they allow you to specify patterns that may contain backslashes without having to escape them.\n",
    "\n",
    "* To convert the regular string to raw string ,we use 'r' before string declaration"
   ]
  },
  {
   "cell_type": "code",
   "execution_count": 13,
   "id": "5537ed63",
   "metadata": {},
   "outputs": [
    {
     "name": "stdout",
     "output_type": "stream",
     "text": [
      "c:\u0007bc\n",
      "ewfolder\\j.jpg\n",
      "c:\\abc\\newfolder\\j.jpg\n",
      "c:\\abc\\newfolder\\j.jpg\n"
     ]
    }
   ],
   "source": [
    "# r-strings\n",
    "\n",
    "print('c:\\abc\\newfolder\\j.jpg')\n",
    "\n",
    "print('c:\\\\abc\\\\newfolder\\\\j.jpg')\n",
    "\n",
    "print(r'c:\\abc\\newfolder\\j.jpg')"
   ]
  },
  {
   "cell_type": "markdown",
   "id": "9783539e",
   "metadata": {},
   "source": [
    "### Formating String "
   ]
  },
  {
   "cell_type": "markdown",
   "id": "1a0013fa",
   "metadata": {},
   "source": [
    "* To create an f-string in Python, prefix the string with the letter “f”. The string itself can be formatted in much the same way that you would with str. format(). F-strings provide a concise and convenient way to embed Python expressions inside string literals for formatting.\n",
    "\n",
    "* String Formatting with F-Strings in this code, the f-string f”My name is {name}.” is used to interpolate the value of the name variable into the string."
   ]
  },
  {
   "cell_type": "code",
   "execution_count": 15,
   "id": "c6f9734a",
   "metadata": {},
   "outputs": [
    {
     "name": "stdout",
     "output_type": "stream",
     "text": [
      "my name is harsh\n"
     ]
    }
   ],
   "source": [
    "x = 'harsh'\n",
    "\n",
    "print(f'my name is {x}')"
   ]
  },
  {
   "cell_type": "markdown",
   "id": "ce195559",
   "metadata": {},
   "source": [
    "## Indexing "
   ]
  },
  {
   "cell_type": "markdown",
   "id": "be502176",
   "metadata": {},
   "source": [
    "* Indexing is the process of accessing an element in a sequence using its position in the sequence (its index).\n",
    "\n",
    "* To access an element in a sequence, you can use square brackets [] with the index of the element you want to access."
   ]
  },
  {
   "cell_type": "markdown",
   "id": "e92964d7",
   "metadata": {},
   "source": [
    "* To access characters in a string we have two ways:\n",
    "\n",
    "    * Positive index number\n",
    "    * Negative index number\n",
    "\n"
   ]
  },
  {
   "cell_type": "markdown",
   "id": "1c25d9ca",
   "metadata": {},
   "source": [
    "![](https://2.bp.blogspot.com/-sLHL8zUQ8DM/XSGGcncqaoI/AAAAAAAABf0/_jnv_ggUOY0cZZXMagTiwdRVdNWiL-OQQCPcBGAYYCw/s1600/Python%2BString%2Bindex.png)"
   ]
  },
  {
   "cell_type": "markdown",
   "id": "ad49aa25",
   "metadata": {},
   "source": [
    "#### Positive index number\n",
    "\n",
    "* In posityive indexing,we move from left to right and start index is '0' and the end index is 'n-1',where 'n' is 'len of the string'.\n"
   ]
  },
  {
   "cell_type": "code",
   "execution_count": 17,
   "id": "a5a3e87f",
   "metadata": {},
   "outputs": [
    {
     "name": "stdout",
     "output_type": "stream",
     "text": [
      "h\n"
     ]
    }
   ],
   "source": [
    "x = 'Python'\n",
    "print(x[3]) # accesing h"
   ]
  },
  {
   "cell_type": "markdown",
   "id": "83681822",
   "metadata": {},
   "source": [
    "#### Negative index number\n",
    " \n",
    "* In negative indexing, we move from right to left start index is '-1' and the end index is '-n', where 'n' is 'len of the string'"
   ]
  },
  {
   "cell_type": "code",
   "execution_count": 18,
   "id": "df046b9f",
   "metadata": {},
   "outputs": [
    {
     "name": "stdout",
     "output_type": "stream",
     "text": [
      "h\n"
     ]
    }
   ],
   "source": [
    "x = 'Python'\n",
    "print(x[-3]) # accessing 'h' using negative indexing"
   ]
  },
  {
   "cell_type": "markdown",
   "id": "6b4f23bf",
   "metadata": {},
   "source": [
    "## Slicing"
   ]
  },
  {
   "cell_type": "markdown",
   "id": "28cdbfcd",
   "metadata": {},
   "source": [
    "* Slicing is the process of accessing a sub-sequence of a sequence by specifying a starting and ending index. In Python, you perform slicing using the colon (:) operator.\n",
    "\n",
    "* where start_index is the index of the first element in the sub-sequence and end_index is the index of the last element in the sub-sequence (excluding the element at the end_index). To slice a sequence, you can use square brackets [] with the start and end indices separated by a colon."
   ]
  },
  {
   "cell_type": "markdown",
   "id": "dc154d39",
   "metadata": {},
   "source": [
    "![](https://www.scientecheasy.com/wp-content/uploads/2023/01/python-string-slicing.png)"
   ]
  },
  {
   "cell_type": "code",
   "execution_count": 19,
   "id": "b468c574",
   "metadata": {},
   "outputs": [
    {
     "name": "stdout",
     "output_type": "stream",
     "text": [
      "40\n",
      "i am not sure\n",
      "i am not sure what to take as an example\n",
      "ia o uewa otk sa xml\n",
      "i am not sure what to take as an example\n",
      "i am not sure what to take as an example\n",
      "what\n"
     ]
    }
   ],
   "source": [
    "x = 'i am not sure what to take as an example'\n",
    "print(len(x))\n",
    "print(x[0:13])\n",
    "print(x[0:41])\n",
    "print(x[0:41:2])\n",
    "print(x[0:41:1])\n",
    "print(x[::])\n",
    "print(x[14:18])"
   ]
  },
  {
   "cell_type": "markdown",
   "id": "e77be54c",
   "metadata": {},
   "source": [
    "#### Reverse slicing"
   ]
  },
  {
   "cell_type": "markdown",
   "id": "40e24950",
   "metadata": {},
   "source": [
    "* Slicing in Python is also used for reversing the string.Slicing is the most efficient way to reverse the string compared to other reversing techniques in Python.Programmers usually use a slice operator as it takes less time to reverse the string."
   ]
  },
  {
   "cell_type": "code",
   "execution_count": 21,
   "id": "733f1f9e",
   "metadata": {},
   "outputs": [
    {
     "name": "stdout",
     "output_type": "stream",
     "text": [
      "Python\n",
      "nohtyP\n",
      "nohtyP\n",
      "nohty\n"
     ]
    }
   ],
   "source": [
    "x = 'Python'\n",
    "print(x)\n",
    "print(x[::-1])\n",
    "print(x[-1:-7:-1])\n",
    "print(x[5:0:-1])"
   ]
  },
  {
   "cell_type": "markdown",
   "id": "46741787",
   "metadata": {},
   "source": [
    "### Concatenate Strings"
   ]
  },
  {
   "cell_type": "markdown",
   "id": "0cda0791",
   "metadata": {},
   "source": [
    "* String Concatenation is the technique of combining two strings. It’s very easy to use the '+' operator for string concatenation. This operator can be used to add multiple strings together"
   ]
  },
  {
   "cell_type": "code",
   "execution_count": 25,
   "id": "025a8920",
   "metadata": {},
   "outputs": [
    {
     "name": "stdout",
     "output_type": "stream",
     "text": [
      "InnoMinds\n",
      "InnoMindsInnoMindsInnoMinds\n"
     ]
    }
   ],
   "source": [
    "a, b = 'Inno','Minds'\n",
    "c = a + b\n",
    "print(c)\n",
    "c *= 3\n",
    "print(c)"
   ]
  },
  {
   "cell_type": "code",
   "execution_count": null,
   "id": "cb9b3cf9",
   "metadata": {},
   "outputs": [],
   "source": []
  },
  {
   "cell_type": "code",
   "execution_count": null,
   "id": "ccd5b1ab",
   "metadata": {},
   "outputs": [],
   "source": []
  }
 ],
 "metadata": {
  "kernelspec": {
   "display_name": "Python 3 (ipykernel)",
   "language": "python",
   "name": "python3"
  },
  "language_info": {
   "codemirror_mode": {
    "name": "ipython",
    "version": 3
   },
   "file_extension": ".py",
   "mimetype": "text/x-python",
   "name": "python",
   "nbconvert_exporter": "python",
   "pygments_lexer": "ipython3",
   "version": "3.11.5"
  }
 },
 "nbformat": 4,
 "nbformat_minor": 5
}
